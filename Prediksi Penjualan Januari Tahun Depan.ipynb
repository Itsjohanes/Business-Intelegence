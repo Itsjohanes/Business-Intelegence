{
 "cells": [
  {
   "cell_type": "code",
   "execution_count": 17,
   "id": "a4af24f0",
   "metadata": {},
   "outputs": [
    {
     "name": "stdout",
     "output_type": "stream",
     "text": [
      "Prediksi penjualan untuk The Barbecue Chicken Pizza pada bulan Januari tahun depan: 185\n",
      "Prediksi penjualan untuk The Big Meat Pizza pada bulan Januari tahun depan: 161\n",
      "Prediksi penjualan untuk The Brie Carre Pizza pada bulan Januari tahun depan: 40\n",
      "Prediksi penjualan untuk The Calabrese Pizza pada bulan Januari tahun depan: 78\n",
      "Prediksi penjualan untuk The California Chicken Pizza pada bulan Januari tahun depan: 196\n",
      "Prediksi penjualan untuk The Chicken Alfredo Pizza pada bulan Januari tahun depan: 80\n",
      "Prediksi penjualan untuk The Chicken Pesto Pizza pada bulan Januari tahun depan: 80\n",
      "Prediksi penjualan untuk The Classic Deluxe Pizza pada bulan Januari tahun depan: 213\n",
      "Prediksi penjualan untuk The Five Cheese Pizza pada bulan Januari tahun depan: 102\n",
      "Prediksi penjualan untuk The Four Cheese Pizza pada bulan Januari tahun depan: 152\n",
      "Prediksi penjualan untuk The Greek Pizza pada bulan Januari tahun depan: 113\n",
      "Prediksi penjualan untuk The Green Garden Pizza pada bulan Januari tahun depan: 75\n",
      "Prediksi penjualan untuk The Hawaiian Pizza pada bulan Januari tahun depan: 206\n",
      "Prediksi penjualan untuk The Italian Capocollo Pizza pada bulan Januari tahun depan: 112\n",
      "Prediksi penjualan untuk The Italian Supreme Pizza pada bulan Januari tahun depan: 149\n",
      "Prediksi penjualan untuk The Italian Vegetables Pizza pada bulan Januari tahun depan: 71\n",
      "Prediksi penjualan untuk The Mediterranean Pizza pada bulan Januari tahun depan: 83\n",
      "Prediksi penjualan untuk The Mexicana Pizza pada bulan Januari tahun depan: 125\n",
      "Prediksi penjualan untuk The Napolitana Pizza pada bulan Januari tahun depan: 118\n",
      "Prediksi penjualan untuk The Pepper Salami Pizza pada bulan Januari tahun depan: 118\n",
      "Prediksi penjualan untuk The Pepperoni Pizza pada bulan Januari tahun depan: 190\n",
      "Prediksi penjualan untuk The Pepperoni, Mushroom, and Peppers Pizza pada bulan Januari tahun depan: 108\n",
      "Prediksi penjualan untuk The Prosciutto and Arugula Pizza pada bulan Januari tahun depan: 119\n",
      "Prediksi penjualan untuk The Sicilian Pizza pada bulan Januari tahun depan: 158\n",
      "Prediksi penjualan untuk The Soppressata Pizza pada bulan Januari tahun depan: 75\n",
      "Prediksi penjualan untuk The Southwest Chicken Pizza pada bulan Januari tahun depan: 161\n",
      "Prediksi penjualan untuk The Spicy Italian Pizza pada bulan Januari tahun depan: 157\n",
      "Prediksi penjualan untuk The Spinach and Feta Pizza pada bulan Januari tahun depan: 111\n",
      "Prediksi penjualan untuk The Spinach Pesto Pizza pada bulan Januari tahun depan: 81\n",
      "Prediksi penjualan untuk The Spinach Supreme Pizza pada bulan Januari tahun depan: 72\n",
      "Prediksi penjualan untuk The Thai Chicken Pizza pada bulan Januari tahun depan: 203\n",
      "Prediksi penjualan untuk The Vegetables + Vegetables Pizza pada bulan Januari tahun depan: 115\n"
     ]
    }
   ],
   "source": [
    "from sklearn.linear_model import LinearRegression\n",
    "import numpy as np\n",
    "\n",
    "# Data penjualan pizza untuk setiap jenis pizza pada bulan Januari-Desember\n",
    "data_penjualan = np.array([\n",
    "    [211, 150, 35, 67, 202, 86, 77, 190, 138, 159, 129, 75, 185, 126, 167, 100, 68, 132, 136, 131, 239, 102, 134, 191, 79, 138, 153, 126, 77, 87, 199, 143],\n",
    "    [193, 151, 44, 86, 204, 74, 82, 173, 113, 160, 105, 88, 198, 121, 142, 87, 65, 107, 113, 108, 205, 112, 123, 160, 76, 155, 144, 108, 75, 81, 167, 141],\n",
    "    [231, 176, 46, 65, 194, 100, 81, 204, 125, 165, 110, 88, 217, 118, 152, 87, 78, 130, 108, 123, 187, 116, 127, 155, 78, 175, 174, 137, 92, 71, 213, 138],\n",
    "    [214, 139, 32, 83, 176, 74, 89, 216, 107, 162, 150, 82, 219, 129, 172, 87, 79, 130, 119, 131, 171, 110, 109, 155, 94, 171, 152, 120, 60, 85, 200, 134],\n",
    "    [226, 190, 46, 84, 199, 85, 79, 218, 124, 182, 123, 91, 198, 118, 176, 87, 92, 104, 116, 115, 241, 120, 114, 150, 87, 155, 188, 137, 94, 85, 195, 109],\n",
    "    [194, 139, 40, 90, 222, 83, 79, 197, 124, 148, 115, 87, 189, 127, 171, 72, 75, 122, 143, 127, 162, 127, 111, 167, 85, 144, 165, 117, 90, 84, 188, 123],\n",
    "    [219, 185, 44, 83, 187, 73, 85, 227, 139, 162, 120, 101, 195, 133, 146, 72, 87, 148, 123, 124, 224, 124, 132, 151, 85, 178, 193, 127, 78, 83, 221, 143],\n",
    "    [187, 160, 43, 73, 231, 83, 81, 208, 113, 139, 112, 81, 201, 117, 167, 78, 77, 124, 139, 109, 213, 133, 121, 160, 79, 170, 155, 140, 86, 84, 182, 122],\n",
    "    [192, 142, 49, 66, 177, 81, 84, 209, 115, 147, 107, 91, 196, 110, 137, 72, 76, 102, 119, 102, 198, 121, 113, 144, 65, 163, 130, 111, 88, 71, 203, 109],\n",
    "    [168, 151, 34, 81, 162, 80, 72, 196, 113, 169, 106, 85, 188, 106, 139, 82, 65, 113, 130, 127, 199, 105, 136, 168, 90, 159, 151, 88, 60, 72, 191, 97],\n",
    "    [221, 174, 42, 94, 209, 93, 82, 218, 109, 149, 133, 63, 227, 111, 172, 72, 87, 157, 115, 128, 196, 88, 124, 178, 72, 168, 166, 119, 95, 74, 208, 122],\n",
    "    [176, 157, 35, 65, 207, 75, 82, 197, 89, 160, 110, 65, 209, 122, 143, 85, 85, 115, 103, 121, 183, 101, 113, 159, 71, 141, 153, 116, 75, 73, 204, 145]\n",
    "])\n",
    "jenis_pizza = [\n",
    "    'The Barbecue Chicken Pizza', 'The Big Meat Pizza', 'The Brie Carre Pizza', 'The Calabrese Pizza', 'The California Chicken Pizza', \n",
    "    'The Chicken Alfredo Pizza', 'The Chicken Pesto Pizza', 'The Classic Deluxe Pizza', 'The Five Cheese Pizza', 'The Four Cheese Pizza',\n",
    "    'The Greek Pizza', 'The Green Garden Pizza', 'The Hawaiian Pizza', 'The Italian Capocollo Pizza', 'The Italian Supreme Pizza', \n",
    "    'The Italian Vegetables Pizza', 'The Mediterranean Pizza', 'The Mexicana Pizza', 'The Napolitana Pizza', 'The Pepper Salami Pizza', \n",
    "    'The Pepperoni Pizza', 'The Pepperoni, Mushroom, and Peppers Pizza', 'The Prosciutto and Arugula Pizza', 'The Sicilian Pizza', \n",
    "    'The Soppressata Pizza', 'The Southwest Chicken Pizza', 'The Spicy Italian Pizza', 'The Spinach and Feta Pizza', \n",
    "    'The Spinach Pesto Pizza', 'The Spinach Supreme Pizza', 'The Thai Chicken Pizza', 'The Vegetables + Vegetables Pizza'\n",
    "]\n",
    "\n",
    "# Inisialisasi model regresi linier untuk setiap jenis pizza\n",
    "models = [LinearRegression() for _ in range(data_penjualan.shape[1])]\n",
    "\n",
    "# Melatih model untuk setiap jenis pizza\n",
    "for i in range(data_penjualan.shape[1]):\n",
    "    model = models[i]\n",
    "    model.fit(bulan, data_penjualan[:, i])\n",
    "\n",
    "# Prediksi penjualan untuk setiap jenis pizza pada bulan Januari tahun depan (bulan ke-13)\n",
    "prediksi_januari = [model.predict([[13]])[0] for model in models]\n",
    "\n",
    "# Menampilkan hasil prediksi untuk setiap jenis pizza\n",
    "for i, prediksi in enumerate(prediksi_januari):\n",
    "    print(f\"Prediksi penjualan untuk {jenis_pizza[i]} pada bulan Januari tahun depan: {int(prediksi)}\")\n"
   ]
  },
  {
   "cell_type": "code",
   "execution_count": null,
   "id": "dfd4650d",
   "metadata": {},
   "outputs": [],
   "source": []
  },
  {
   "cell_type": "code",
   "execution_count": null,
   "id": "c64aa551",
   "metadata": {},
   "outputs": [],
   "source": []
  },
  {
   "cell_type": "code",
   "execution_count": null,
   "id": "a95cddce",
   "metadata": {},
   "outputs": [],
   "source": []
  },
  {
   "cell_type": "code",
   "execution_count": null,
   "id": "e5b45ce9",
   "metadata": {},
   "outputs": [],
   "source": []
  }
 ],
 "metadata": {
  "kernelspec": {
   "display_name": "Python 3 (ipykernel)",
   "language": "python",
   "name": "python3"
  },
  "language_info": {
   "codemirror_mode": {
    "name": "ipython",
    "version": 3
   },
   "file_extension": ".py",
   "mimetype": "text/x-python",
   "name": "python",
   "nbconvert_exporter": "python",
   "pygments_lexer": "ipython3",
   "version": "3.9.13"
  }
 },
 "nbformat": 4,
 "nbformat_minor": 5
}
