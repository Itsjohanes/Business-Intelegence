import pandas as pd
from sklearn.linear_model import LinearRegression

# Data penjualan yang telah diberikan
data = {
    'Jenis Pizza': ['Chicken', 'Classic', 'Supreme', 'Veggie'],
    'L': [20584, 9696.5, 5589, 26066.5],
    'M': [19235.25, 5227.5, 0, 23622.2],
    'S': [3901, 0, 0, 1923.75],
    'XL': [8279.25, 15163.5, 14442, 3990],
    'XXL': [0, 15006, 9026.25, 7492.5]
}

# Membuat DataFrame dari data
df = pd.DataFrame(data)

# Menghitung total penjualan untuk setiap jenis pizza
df['Total'] = df['L'] + df['M'] + df['S'] + df['XL'] + df['XXL']

# Menghitung total penjualan saat ini
total_penjualan_sekarang = df['Total'].sum()

# Menentukan target penjualan (1 juta dolar)
target_penjualan = 1000000

# Mengecek apakah total penjualan saat ini sudah mencapai target
if total_penjualan_sekarang >= target_penjualan:
    print("Total penjualan saat ini sudah mencapai atau melebihi target.")
else:
    # Menggunakan regresi linier untuk memprediksi penjualan tambahan yang diperlukan
    X = df[['L', 'M', 'S', 'XL', 'XXL']]
    y = df['Total']

    model = LinearRegression()
    model.fit(X, y)

    # Memprediksi penjualan tambahan yang diperlukan untuk mencapai target
    penjualan_tambahan = target_penjualan - total_penjualan_sekarang

    prediksi_penjualan_tambahan = model.predict([[penjualan_tambahan, penjualan_tambahan, penjualan_tambahan, penjualan_tambahan, penjualan_tambahan]])

    # Menampilkan prediksi penjualan tambahan untuk tiap jenis dan ukuran pizza
    for i, jenis_pizza in enumerate(df['Jenis Pizza']):
        for j, ukuran in enumerate(['L', 'M', 'S', 'XL', 'XXL']):
            prediksi = model.predict([[df.at[i, 'L'], df.at[i, 'M'], df.at[i, 'S'], df.at[i, 'XL'], df.at[i, 'XXL']]])
            penjualan_tambahan_jenis_ukuran = prediksi_penjualan_tambahan[0] * (df.at[i, ukuran] / total_penjualan_sekarang)
            print(f"Prediksi penjualan tambahan untuk {jenis_pizza} ukuran {ukuran}: {penjualan_tambahan_jenis_ukuran}")
